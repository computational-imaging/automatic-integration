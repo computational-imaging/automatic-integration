{
 "cells": [
  {
   "cell_type": "markdown",
   "metadata": {
    "id": "p8LcUlwJKFIG"
   },
   "source": [
    "# AutoInt example"
   ]
  },
  {
   "cell_type": "markdown",
   "metadata": {
    "id": "xvxmqpliPY94"
   },
   "source": [
    "## Imports"
   ]
  },
  {
   "cell_type": "markdown",
   "metadata": {
    "id": "gCSbelzxRej2"
   },
   "source": [
    "### A bunch of third-party libraries"
   ]
  },
  {
   "cell_type": "code",
   "execution_count": 3,
   "metadata": {
    "colab": {
     "base_uri": "https://localhost:8080/"
    },
    "id": "Uf4JlP-7OLrQ",
    "outputId": "c089c925-9754-47dc-bb95-be16546f0b34"
   },
   "outputs": [
    {
     "name": "stdout",
     "output_type": "stream",
     "text": [
      "Requirement already satisfied: torchmeta==1.4.6 in /usr/local/lib/python3.7/dist-packages (1.4.6)\n",
      "Requirement already satisfied: ordered-set in /usr/local/lib/python3.7/dist-packages (4.0.2)\n",
      "Collecting colour\n",
      "  Downloading https://files.pythonhosted.org/packages/74/46/e81907704ab203206769dee1385dc77e1407576ff8f50a0681d0a6b541be/colour-0.1.5-py2.py3-none-any.whl\n",
      "Installing collected packages: colour\n",
      "Successfully installed colour-0.1.5\n"
     ]
    }
   ],
   "source": [
    "import torch\n",
    "import matplotlib.pyplot as plt\n",
    "import numpy as np\n",
    "from functools import partial\n",
    "from torch.utils.data import DataLoader\n",
    "!pip install --no-dependencies torchmeta==1.4.6\n",
    "!pip install ordered-set\n",
    "!pip install colour\n",
    "from torchmeta.modules import MetaModule"
   ]
  },
  {
   "cell_type": "markdown",
   "metadata": {
    "id": "Y4fpzrWxRluK"
   },
   "source": [
    "### Our libraries"
   ]
  },
  {
   "cell_type": "code",
   "execution_count": 23,
   "metadata": {
    "colab": {
     "base_uri": "https://localhost:8080/"
    },
    "id": "BIM2d2vuRpUH",
    "outputId": "42b4d7c3-a362-4729-d8b1-44c557295b0f"
   },
   "outputs": [
    {
     "name": "stdout",
     "output_type": "stream",
     "text": [
      "Cloning into 'automatic-integration'...\n",
      "warning: redirecting to https://github.com/computational-imaging/automatic-integration.git/\n",
      "remote: Enumerating objects: 60, done.\u001b[K\n",
      "remote: Counting objects:   1% (1/60)\u001b[K\r",
      "remote: Counting objects:   3% (2/60)\u001b[K\r",
      "remote: Counting objects:   5% (3/60)\u001b[K\r",
      "remote: Counting objects:   6% (4/60)\u001b[K\r",
      "remote: Counting objects:   8% (5/60)\u001b[K\r",
      "remote: Counting objects:  10% (6/60)\u001b[K\r",
      "remote: Counting objects:  11% (7/60)\u001b[K\r",
      "remote: Counting objects:  13% (8/60)\u001b[K\r",
      "remote: Counting objects:  15% (9/60)\u001b[K\r",
      "remote: Counting objects:  16% (10/60)\u001b[K\r",
      "remote: Counting objects:  18% (11/60)\u001b[K\r",
      "remote: Counting objects:  20% (12/60)\u001b[K\r",
      "remote: Counting objects:  21% (13/60)\u001b[K\r",
      "remote: Counting objects:  23% (14/60)\u001b[K\r",
      "remote: Counting objects:  25% (15/60)\u001b[K\r",
      "remote: Counting objects:  26% (16/60)\u001b[K\r",
      "remote: Counting objects:  28% (17/60)\u001b[K\r",
      "remote: Counting objects:  30% (18/60)\u001b[K\r",
      "remote: Counting objects:  31% (19/60)\u001b[K\r",
      "remote: Counting objects:  33% (20/60)\u001b[K\r",
      "remote: Counting objects:  35% (21/60)\u001b[K\r",
      "remote: Counting objects:  36% (22/60)\u001b[K\r",
      "remote: Counting objects:  38% (23/60)\u001b[K\r",
      "remote: Counting objects:  40% (24/60)\u001b[K\r",
      "remote: Counting objects:  41% (25/60)\u001b[K\r",
      "remote: Counting objects:  43% (26/60)\u001b[K\r",
      "remote: Counting objects:  45% (27/60)\u001b[K\r",
      "remote: Counting objects:  46% (28/60)\u001b[K\r",
      "remote: Counting objects:  48% (29/60)\u001b[K\r",
      "remote: Counting objects:  50% (30/60)\u001b[K\r",
      "remote: Counting objects:  51% (31/60)\u001b[K\r",
      "remote: Counting objects:  53% (32/60)\u001b[K\r",
      "remote: Counting objects:  55% (33/60)\u001b[K\r",
      "remote: Counting objects:  56% (34/60)\u001b[K\r",
      "remote: Counting objects:  58% (35/60)\u001b[K\r",
      "remote: Counting objects:  60% (36/60)\u001b[K\r",
      "remote: Counting objects:  61% (37/60)\u001b[K\r",
      "remote: Counting objects:  63% (38/60)\u001b[K\r",
      "remote: Counting objects:  65% (39/60)\u001b[K\r",
      "remote: Counting objects:  66% (40/60)\u001b[K\r",
      "remote: Counting objects:  68% (41/60)\u001b[K\r",
      "remote: Counting objects:  70% (42/60)\u001b[K\r",
      "remote: Counting objects:  71% (43/60)\u001b[K\r",
      "remote: Counting objects:  73% (44/60)\u001b[K\r",
      "remote: Counting objects:  75% (45/60)\u001b[K\r",
      "remote: Counting objects:  76% (46/60)\u001b[K\r",
      "remote: Counting objects:  78% (47/60)\u001b[K\r",
      "remote: Counting objects:  80% (48/60)\u001b[K\r",
      "remote: Counting objects:  81% (49/60)\u001b[K\r",
      "remote: Counting objects:  83% (50/60)\u001b[K\r",
      "remote: Counting objects:  85% (51/60)\u001b[K\r",
      "remote: Counting objects:  86% (52/60)\u001b[K\r",
      "remote: Counting objects:  88% (53/60)\u001b[K\r",
      "remote: Counting objects:  90% (54/60)\u001b[K\r",
      "remote: Counting objects:  91% (55/60)\u001b[K\r",
      "remote: Counting objects:  93% (56/60)\u001b[K\r",
      "remote: Counting objects:  95% (57/60)\u001b[K\r",
      "remote: Counting objects:  96% (58/60)\u001b[K\r",
      "remote: Counting objects:  98% (59/60)\u001b[K\r",
      "remote: Counting objects: 100% (60/60)\u001b[K\r",
      "remote: Counting objects: 100% (60/60), done.\u001b[K\n",
      "remote: Compressing objects:   1% (1/51)\u001b[K\r",
      "remote: Compressing objects:   3% (2/51)\u001b[K\r",
      "remote: Compressing objects:   5% (3/51)\u001b[K\r",
      "remote: Compressing objects:   7% (4/51)\u001b[K\r",
      "remote: Compressing objects:   9% (5/51)\u001b[K\r",
      "remote: Compressing objects:  11% (6/51)\u001b[K\r",
      "remote: Compressing objects:  13% (7/51)\u001b[K\r",
      "remote: Compressing objects:  15% (8/51)\u001b[K\r",
      "remote: Compressing objects:  17% (9/51)\u001b[K\r",
      "remote: Compressing objects:  19% (10/51)\u001b[K\r",
      "remote: Compressing objects:  21% (11/51)\u001b[K\r",
      "remote: Compressing objects:  23% (12/51)\u001b[K\r",
      "remote: Compressing objects:  25% (13/51)\u001b[K\r",
      "remote: Compressing objects:  27% (14/51)\u001b[K\r",
      "remote: Compressing objects:  29% (15/51)\u001b[K\r",
      "remote: Compressing objects:  31% (16/51)\u001b[K\r",
      "remote: Compressing objects:  33% (17/51)\u001b[K\r",
      "remote: Compressing objects:  35% (18/51)\u001b[K\r",
      "remote: Compressing objects:  37% (19/51)\u001b[K\r",
      "remote: Compressing objects:  39% (20/51)\u001b[K\r",
      "remote: Compressing objects:  41% (21/51)\u001b[K\r",
      "remote: Compressing objects:  43% (22/51)\u001b[K\r",
      "remote: Compressing objects:  45% (23/51)\u001b[K\r",
      "remote: Compressing objects:  47% (24/51)\u001b[K\r",
      "remote: Compressing objects:  49% (25/51)\u001b[K\r",
      "remote: Compressing objects:  50% (26/51)\u001b[K\r",
      "remote: Compressing objects:  52% (27/51)\u001b[K\r",
      "remote: Compressing objects:  54% (28/51)\u001b[K\r",
      "remote: Compressing objects:  56% (29/51)\u001b[K\r",
      "remote: Compressing objects:  58% (30/51)\u001b[K\r",
      "remote: Compressing objects:  60% (31/51)\u001b[K\r",
      "remote: Compressing objects:  62% (32/51)\u001b[K\r",
      "remote: Compressing objects:  64% (33/51)\u001b[K\r",
      "remote: Compressing objects:  66% (34/51)\u001b[K\r",
      "remote: Compressing objects:  68% (35/51)\u001b[K\r",
      "remote: Compressing objects:  70% (36/51)\u001b[K\r",
      "remote: Compressing objects:  72% (37/51)\u001b[K\r",
      "remote: Compressing objects:  74% (38/51)\u001b[K\r",
      "remote: Compressing objects:  76% (39/51)\u001b[K\r",
      "remote: Compressing objects:  78% (40/51)\u001b[K\r",
      "remote: Compressing objects:  80% (41/51)\u001b[K\r",
      "remote: Compressing objects:  82% (42/51)\u001b[K\r",
      "remote: Compressing objects:  84% (43/51)\u001b[K\r",
      "remote: Compressing objects:  86% (44/51)\u001b[K\r",
      "remote: Compressing objects:  88% (45/51)\u001b[K\r",
      "remote: Compressing objects:  90% (46/51)\u001b[K\r",
      "remote: Compressing objects:  92% (47/51)\u001b[K\r",
      "remote: Compressing objects:  94% (48/51)\u001b[K\r",
      "remote: Compressing objects:  96% (49/51)\u001b[K\r",
      "remote: Compressing objects:  98% (50/51)\u001b[K\r",
      "remote: Compressing objects: 100% (51/51)\u001b[K\r",
      "remote: Compressing objects: 100% (51/51), done.\u001b[K\n",
      "Unpacking objects:   1% (1/60)   \r",
      "Unpacking objects:   3% (2/60)   \r",
      "Unpacking objects:   5% (3/60)   \r",
      "Unpacking objects:   6% (4/60)   \r",
      "Unpacking objects:   8% (5/60)   \r",
      "Unpacking objects:  10% (6/60)   \r",
      "Unpacking objects:  11% (7/60)   \r",
      "Unpacking objects:  13% (8/60)   \r",
      "Unpacking objects:  15% (9/60)   \r",
      "Unpacking objects:  16% (10/60)   \r",
      "Unpacking objects:  18% (11/60)   \r",
      "Unpacking objects:  20% (12/60)   \r",
      "Unpacking objects:  21% (13/60)   \r",
      "Unpacking objects:  23% (14/60)   \r",
      "Unpacking objects:  25% (15/60)   \r",
      "Unpacking objects:  26% (16/60)   \r",
      "Unpacking objects:  28% (17/60)   \r",
      "Unpacking objects:  30% (18/60)   \r",
      "Unpacking objects:  31% (19/60)   \r",
      "Unpacking objects:  33% (20/60)   \r",
      "Unpacking objects:  35% (21/60)   \r",
      "Unpacking objects:  36% (22/60)   \r",
      "Unpacking objects:  38% (23/60)   \r",
      "Unpacking objects:  40% (24/60)   \r",
      "Unpacking objects:  41% (25/60)   \r",
      "Unpacking objects:  43% (26/60)   \r",
      "Unpacking objects:  45% (27/60)   \r",
      "Unpacking objects:  46% (28/60)   \r",
      "Unpacking objects:  48% (29/60)   \r",
      "Unpacking objects:  50% (30/60)   \r",
      "Unpacking objects:  51% (31/60)   \r",
      "Unpacking objects:  53% (32/60)   \r",
      "remote: Total 60 (delta 20), reused 40 (delta 6), pack-reused 0\u001b[K\n",
      "Unpacking objects:  55% (33/60)   \r",
      "Unpacking objects:  56% (34/60)   \r",
      "Unpacking objects:  58% (35/60)   \r",
      "Unpacking objects:  60% (36/60)   \r",
      "Unpacking objects:  61% (37/60)   \r",
      "Unpacking objects:  63% (38/60)   \r",
      "Unpacking objects:  65% (39/60)   \r",
      "Unpacking objects:  66% (40/60)   \r",
      "Unpacking objects:  68% (41/60)   \r",
      "Unpacking objects:  70% (42/60)   \r",
      "Unpacking objects:  71% (43/60)   \r",
      "Unpacking objects:  73% (44/60)   \r",
      "Unpacking objects:  75% (45/60)   \r",
      "Unpacking objects:  76% (46/60)   \r",
      "Unpacking objects:  78% (47/60)   \r",
      "Unpacking objects:  80% (48/60)   \r",
      "Unpacking objects:  81% (49/60)   \r",
      "Unpacking objects:  83% (50/60)   \r",
      "Unpacking objects:  85% (51/60)   \r",
      "Unpacking objects:  86% (52/60)   \r",
      "Unpacking objects:  88% (53/60)   \r",
      "Unpacking objects:  90% (54/60)   \r",
      "Unpacking objects:  91% (55/60)   \r",
      "Unpacking objects:  93% (56/60)   \r",
      "Unpacking objects:  95% (57/60)   \r",
      "Unpacking objects:  96% (58/60)   \r",
      "Unpacking objects:  98% (59/60)   \r",
      "Unpacking objects: 100% (60/60)   \r",
      "Unpacking objects: 100% (60/60), done.\n",
      "/content/automatic-integration/automatic-integration/automatic-integration/automatic-integration/automatic-integration\n"
     ]
    }
   ],
   "source": [
    "import sys\n",
    "import os\n",
    "\n",
    "if not os.path.isdir('automatic-integration'):\n",
    "    !git clone https://www.github.com/computational-imaging/automatic-integration\n",
    "    %cd automatic-integration\n",
    "    \n",
    "from autoint.session import Session\n",
    "import autoint.autograd_modules as autoint"
   ]
  },
  {
   "cell_type": "markdown",
   "metadata": {
    "id": "tNHuGxpdOYeh"
   },
   "source": [
    "## A class to create coordinates from a 1D function we wish to fit"
   ]
  },
  {
   "cell_type": "code",
   "execution_count": 5,
   "metadata": {
    "id": "n_9nVygnKENw"
   },
   "outputs": [],
   "source": [
    "class Implicit1DWrapper(torch.utils.data.Dataset):\n",
    "    def __init__(self, range, fn, grad_fn=None, integral_fn=None, sampling_density=100,\n",
    "                 train_every=10):\n",
    "\n",
    "        avg = (range[0] + range[1]) / 2\n",
    "\n",
    "        coords = self.get_samples(range, sampling_density)\n",
    "        self.fn_vals = fn(coords)\n",
    "        self.train_idx = torch.arange(0, coords.shape[0], train_every).float()\n",
    "\n",
    "        #coords = (coords - avg) / (range[1] - avg)\n",
    "        self.grid = coords\n",
    "        self.grid.requires_grad_(True)\n",
    "        #self.val_grid = val_coords\n",
    "\n",
    "        if grad_fn is None:\n",
    "            grid_gt_with_grad = coords\n",
    "            grid_gt_with_grad.requires_grad_(True)\n",
    "            fn_vals_with_grad = fn((grid_gt_with_grad * (range[1] - avg)) + avg)\n",
    "            gt_gradient = torch.autograd.grad(fn_vals_with_grad, [grid_gt_with_grad],\n",
    "                                              grad_outputs=torch.ones_like(grid_gt_with_grad), create_graph=True,\n",
    "                                              retain_graph=True)[0]\n",
    "            try:\n",
    "                gt_hessian = torch.autograd.grad(gt_gradient, [grid_gt_with_grad],\n",
    "                                                 grad_outputs=torch.ones_like(gt_gradient), retain_graph=True)[0]\n",
    "            except Exception as e:\n",
    "                gt_hessian = torch.zeros_like(gt_gradient)\n",
    "\n",
    "        else:\n",
    "            gt_gradient = grad_fn(coords) \n",
    "            gt_hessian = torch.zeros_like(gt_gradient)\n",
    "\n",
    "        self.integral_fn = integral_fn\n",
    "        if integral_fn:\n",
    "            self.integral_vals = integral_fn(coords)\n",
    "\n",
    "        self.gt_gradient = gt_gradient.detach()\n",
    "        self.gt_hessian = gt_hessian.detach()\n",
    "\n",
    "    def get_samples(self, range, sampling_density):\n",
    "        num = int(range[1] - range[0])*sampling_density\n",
    "        avg = (range[0] + range[1]) / 2\n",
    "        coords = np.linspace(start=range[0], stop=range[1], num=num)\n",
    "        coords.astype(np.float32)\n",
    "        coords = torch.Tensor(coords).view(-1, 1)\n",
    "        return coords\n",
    "\n",
    "    def get_num_samples(self):\n",
    "        return self.grid.shape[0]\n",
    "\n",
    "    def __len__(self):\n",
    "        return 1\n",
    "\n",
    "    def __getitem__(self, idx):\n",
    "        if self.integral_fn is not None:\n",
    "            return {'coords':self.grid}, {'integral_func': self.integral_vals, 'func':self.fn_vals,\n",
    "                    'gradients':self.gt_gradient, 'val_func': self.val_fn_vals,\n",
    "                    'val_coords': self.val_grid, 'hessian':self.gt_hessian}\n",
    "        else:\n",
    "            return {'idx': self.train_idx, 'coords':self.grid}, \\\n",
    "                   {'func': self.fn_vals, 'gradients':self.gt_gradient,\n",
    "                    'coords': self.grid}"
   ]
  },
  {
   "cell_type": "markdown",
   "metadata": {
    "id": "-ounsyPROmJe"
   },
   "source": [
    "## Different 1D functions we want to integrate"
   ]
  },
  {
   "cell_type": "code",
   "execution_count": 6,
   "metadata": {
    "id": "w8oKENjbOpbG"
   },
   "outputs": [],
   "source": [
    "def cos_fn(coords):\n",
    "  return torch.cos(10*coords)\n",
    "\n",
    "def polynomial_fn(coords):\n",
    "    return .1*coords**5 - .2*coords**4 + .2*coords**3 - .4*coords**2 + .1*coords\n",
    "\n",
    "def sinc_fn(coords):\n",
    "    coords[coords == 0] += 1\n",
    "    return torch.div(torch.sin(20*coords), 20*coords)\n",
    "\n",
    "def linear_fn(coords):\n",
    "    return 1.0 * coords\n",
    "\n",
    "def xcosx_fn(coords):\n",
    "    return coords * torch.cos(coords)\n",
    "\n",
    "def integral_xcosx_fn(coords):\n",
    "    return coords*torch.sin(coords) + torch.cos(coords)"
   ]
  },
  {
   "cell_type": "markdown",
   "metadata": {
    "id": "ir7qkzUwPhPS"
   },
   "source": []
  },
  {
   "cell_type": "markdown",
   "metadata": {
    "id": "2OSv8uMMPuy2"
   },
   "source": [
    "## Setting up the integral network & the grad network"
   ]
  },
  {
   "cell_type": "markdown",
   "metadata": {
    "id": "jVnl-6pQZv3S"
   },
   "source": [
    "We define an integral network using the AutoInt API. Here the integral network is a MLP with sine non-linearities: a SIREN."
   ]
  },
  {
   "cell_type": "code",
   "execution_count": 7,
   "metadata": {
    "id": "R1eePTXXXoJo"
   },
   "outputs": [],
   "source": [
    "class SIREN(MetaModule):\n",
    "    def __init__(self, session):\n",
    "        super().__init__()\n",
    "\n",
    "        self.net = [] \n",
    "        self.input = autoint.Input(torch.Tensor(1, 1), id='x_coords')\n",
    "\n",
    "        self.net.append(autoint.Linear(1, 128))\n",
    "        self.net.append(autoint.Sine())\n",
    "        self.net.append(autoint.Linear(128, 128))\n",
    "        self.net.append(autoint.Sine())\n",
    "        self.net.append(autoint.Linear(128, 128))\n",
    "        self.net.append(autoint.Sine())\n",
    "        self.net.append(autoint.Linear(128, 128))\n",
    "        self.net.append(autoint.Sine())\n",
    "        self.net.append(autoint.Linear(128, 1))\n",
    "\n",
    "        self.net = torch.nn.Sequential(*self.net)\n",
    "        self.session = session\n",
    "\n",
    "    def input_init(self, input_tensor, m):\n",
    "        with torch.no_grad():\n",
    "            if isinstance(m, autoint.Input):\n",
    "                m.set_value(input_tensor, grad=True)\n",
    "\n",
    "    def constant_init(self, input_tensor, m):\n",
    "        with torch.no_grad():\n",
    "            if isinstance(m, autoint.Constant):\n",
    "                m.set_value(input_tensor, grad=False)\n",
    "    \n",
    "    def forward(self, x):\n",
    "        with torch.no_grad():\n",
    "            input_init_func = partial(self.input_init, x[:, 0, None])\n",
    "            self.input.apply(input_init_func)\n",
    "\n",
    "        input_ctx = autoint.Value(x, self.session)\n",
    "\n",
    "        out1 = self.input(input_ctx)\n",
    "        return self.net(out1)"
   ]
  },
  {
   "cell_type": "markdown",
   "metadata": {
    "id": "60jqgxBHZ65I"
   },
   "source": [
    "In AutoInt, a session will handle the derivation of the integral network into the grad network for you. It takes care of the reassembly of the weights too."
   ]
  },
  {
   "cell_type": "code",
   "execution_count": 8,
   "metadata": {
    "colab": {
     "base_uri": "https://localhost:8080/"
    },
    "id": "_oo7dJHLP4ks",
    "outputId": "ffd4812a-cd3f-4081-f10f-2e76332c56d7"
   },
   "outputs": [
    {
     "name": "stdout",
     "output_type": "stream",
     "text": [
      "Creating session: 8779582792609\n"
     ]
    }
   ],
   "source": [
    "integralnet_session = Session()"
   ]
  },
  {
   "cell_type": "markdown",
   "metadata": {
    "id": "8U_zJVLxaIQH"
   },
   "source": [
    "We instantiate the integral net we defined earlier. The session can be thought as representing the integral network."
   ]
  },
  {
   "cell_type": "code",
   "execution_count": 9,
   "metadata": {
    "colab": {
     "base_uri": "https://localhost:8080/"
    },
    "id": "YVtqZ3D7Yp1s",
    "outputId": "e5c9d2cd-4892-4ea1-cfc8-8d2a6624455c"
   },
   "outputs": [
    {
     "data": {
      "text/plain": [
       "SIREN(\n",
       "  (input): Input()\n",
       "  (net): Sequential(\n",
       "    (0): Linear()\n",
       "    (1): Sine()\n",
       "    (2): Linear()\n",
       "    (3): Sine()\n",
       "    (4): Linear()\n",
       "    (5): Sine()\n",
       "    (6): Linear()\n",
       "    (7): Sine()\n",
       "    (8): Linear()\n",
       "  )\n",
       "  (session): Session()\n",
       ")"
      ]
     },
     "execution_count": 9,
     "metadata": {
      "tags": []
     },
     "output_type": "execute_result"
    }
   ],
   "source": [
    "net = SIREN(integralnet_session)\n",
    "net.cuda()"
   ]
  },
  {
   "cell_type": "markdown",
   "metadata": {
    "id": "RpImr_0IdUeY"
   },
   "source": [
    "We can evaluate the SIREN we instantiated using the forward function as we would do for any Pytorch module."
   ]
  },
  {
   "cell_type": "code",
   "execution_count": 11,
   "metadata": {
    "colab": {
     "base_uri": "https://localhost:8080/"
    },
    "id": "4cmwf3bEdbMk",
    "outputId": "930f2cfb-4355-4663-a614-a550f99b5cbb"
   },
   "outputs": [
    {
     "name": "stdout",
     "output_type": "stream",
     "text": [
      "result of forward SIREN evaluation=tensor([[0.0843]], device='cuda:0', grad_fn=<AddBackward0>)\n"
     ]
    }
   ],
   "source": [
    "x = torch.ones(1, 1).cuda() # defines a dummy input\n",
    "y = torch.ones(1, 1).cuda()\n",
    "x.requires_grad_(True)\n",
    "\n",
    "session_input = {'x_coords': x,\n",
    "                 #'y_coords': y,\n",
    "                 'params': None}\n",
    "\n",
    "y = net(x)\n",
    "\n",
    "forward_siren_evaluation = y.data\n",
    "print(f\"result of forward SIREN evaluation={forward_siren_evaluation}\")"
   ]
  },
  {
   "cell_type": "markdown",
   "metadata": {
    "id": "tSdpdZQHbjsF"
   },
   "source": [
    "Evaluating the session also yields the output of the network. We must evaluate the session at least once (as done above) to initialize the session properly and get the backward session"
   ]
  },
  {
   "cell_type": "code",
   "execution_count": 12,
   "metadata": {
    "colab": {
     "base_uri": "https://localhost:8080/"
    },
    "id": "FQZVe8RjcOcU",
    "outputId": "43271867-cc74-435d-8f7f-1732bb4dad9d"
   },
   "outputs": [
    {
     "name": "stdout",
     "output_type": "stream",
     "text": [
      "result of forward session evaluation=tensor([[0.0843]], device='cuda:0', grad_fn=<AddBackward0>)\n"
     ]
    }
   ],
   "source": [
    "integralnet_session_evaluation = integralnet_session(session_input)\n",
    "print(f\"result of forward session evaluation={integralnet_session_evaluation}\")"
   ]
  },
  {
   "cell_type": "markdown",
   "metadata": {
    "id": "_g4JShidOkS4"
   },
   "source": [
    "We can check the two evaluations (the evaluation of the integral network via forward and of the session representing the integral network) are the same"
   ]
  },
  {
   "cell_type": "code",
   "execution_count": 13,
   "metadata": {
    "colab": {
     "base_uri": "https://localhost:8080/"
    },
    "id": "VSrBokZqOnQW",
    "outputId": "bae8eb28-478e-4aac-c29d-a8c6b099b2af"
   },
   "outputs": [
    {
     "name": "stdout",
     "output_type": "stream",
     "text": [
      "Error between session and network evaluation=0.0\n"
     ]
    }
   ],
   "source": [
    "error_fn = torch.nn.MSELoss()\n",
    "print(f\"Error between session and network evaluation={error_fn(forward_siren_evaluation.squeeze(), integralnet_session_evaluation.squeeze())}\")"
   ]
  },
  {
   "cell_type": "markdown",
   "metadata": {
    "id": "y0LdCq_Aakt6"
   },
   "source": [
    "Calling the function get_backward_graph() on the session instantiates another session that represents the grad network. **(this can only be done if the network has been run once!)**\n",
    "\n"
   ]
  },
  {
   "cell_type": "code",
   "execution_count": 14,
   "metadata": {
    "colab": {
     "base_uri": "https://localhost:8080/"
    },
    "id": "3fdpGxcrZr0D",
    "outputId": "8163a197-001a-4031-be25-500ce3be80ea"
   },
   "outputs": [
    {
     "name": "stdout",
     "output_type": "stream",
     "text": [
      "Creating session: 8779574827461\n"
     ]
    }
   ],
   "source": [
    "gradnet_session = integralnet_session.get_backward_graph()"
   ]
  },
  {
   "cell_type": "markdown",
   "metadata": {
    "id": "WgubofKAbHBF"
   },
   "source": [
    "We can visualize the integral network we created (by visualizing its associated session)"
   ]
  },
  {
   "cell_type": "code",
   "execution_count": 15,
   "metadata": {
    "colab": {
     "base_uri": "https://localhost:8080/",
     "height": 264
    },
    "id": "yFXCebRMbJri",
    "outputId": "9d1efbb2-4907-4139-93ce-755e6bef8e38"
   },
   "outputs": [
    {
     "data": {
      "image/png": "[encoded data removed]",
      "text/plain": [
       "<Figure size 432x288 with 1 Axes>"
      ]
     },
     "metadata": {
      "tags": []
     },
     "output_type": "display_data"
    }
   ],
   "source": [
    "integralnet_session.draw()"
   ]
  },
  {
   "cell_type": "markdown",
   "metadata": {
    "id": "UxbO65_XfHmV"
   },
   "source": [
    "We can also visualize the grad network (contained in the backward session):"
   ]
  },
  {
   "cell_type": "code",
   "execution_count": 16,
   "metadata": {
    "colab": {
     "base_uri": "https://localhost:8080/",
     "height": 264
    },
    "id": "CkEn1gIzfGXU",
    "outputId": "f178484e-526c-406d-b130-4a3569a197f9"
   },
   "outputs": [
    {
     "data": {
      "image/png": "[encoded data removed]",
      "text/plain": [
       "<Figure size 432x288 with 1 Axes>"
      ]
     },
     "metadata": {
      "tags": []
     },
     "output_type": "display_data"
    }
   ],
   "source": [
    "gradnet_session.draw()"
   ]
  },
  {
   "cell_type": "markdown",
   "metadata": {
    "id": "4SU-FDmrQ0Zf"
   },
   "source": [
    "## Fitting the grad network"
   ]
  },
  {
   "cell_type": "markdown",
   "metadata": {
    "id": "SIgUh0NGe0YP"
   },
   "source": [
    "We choose the function we want to calculate the integral using AutoInt."
   ]
  },
  {
   "cell_type": "code",
   "execution_count": 17,
   "metadata": {
    "id": "iOYLeR2FRnjP"
   },
   "outputs": [],
   "source": [
    "func_to_fit = cos_fn"
   ]
  },
  {
   "cell_type": "markdown",
   "metadata": {
    "id": "yQC6pm8Te5LP"
   },
   "source": [
    "We create the dataloader that will create the pairs of datapoints of the form (input coordinate, output of the function to integrate) for us."
   ]
  },
  {
   "cell_type": "code",
   "execution_count": 29,
   "metadata": {
    "id": "grw61O08ezX4"
   },
   "outputs": [],
   "source": [
    "dataset = Implicit1DWrapper([-1,1], fn=func_to_fit, \\\n",
    "                            sampling_density=1000, train_every=1)\n",
    "dataloader = DataLoader(dataset,shuffle=True, batch_size=1, \\\n",
    "                        pin_memory=True, num_workers=0)\n",
    "\n",
    "def dict2cuda(d):\n",
    "    tmp = {}\n",
    "    for key, value in d.items():\n",
    "        if isinstance(value, torch.Tensor):\n",
    "            tmp.update({key: value.cuda()})\n",
    "        else:\n",
    "            tmp.update({key: value})\n",
    "    return tmp"
   ]
  },
  {
   "cell_type": "markdown",
   "metadata": {
    "id": "cWE59YMnfC2e"
   },
   "source": [
    "A minimal example of a training loop to fit the function:"
   ]
  },
  {
   "cell_type": "code",
   "execution_count": 30,
   "metadata": {
    "colab": {
     "base_uri": "https://localhost:8080/"
    },
    "id": "OEEfB9NRQ7xF",
    "outputId": "1ec87bfc-95d4-4c58-add9-da0a6b2979ec"
   },
   "outputs": [
    {
     "name": "stdout",
     "output_type": "stream",
     "text": [
      "0/500: loss=0.5377116799354553\n",
      "50/500: loss=0.0002719396143220365\n",
      "100/500: loss=6.771991138521116e-06\n",
      "150/500: loss=2.310682930328767e-06\n",
      "200/500: loss=1.7198045725308475e-06\n",
      "250/500: loss=1.4227987321646651e-06\n",
      "300/500: loss=1.1983962622252875e-06\n",
      "350/500: loss=1.0184849088545889e-06\n",
      "400/500: loss=0.0007357794675044715\n",
      "450/500: loss=1.3672394061359228e-06\n"
     ]
    }
   ],
   "source": [
    "epochs = 500\n",
    "\n",
    "loss_fn = torch.nn.MSELoss()\n",
    "optimizer = torch.optim.Adam(lr=5e-5, params=net.parameters(),amsgrad=True)\n",
    "\n",
    "print_loss_every = 50\n",
    "\n",
    "for e in range(epochs):\n",
    "  for step, (input, gt) in enumerate(dataloader):\n",
    "      input = dict2cuda(input)\n",
    "      gt = dict2cuda(gt)\n",
    "      \n",
    "      gradnet_output = gradnet_session.compute_graph_fast2({'x_coords': input['coords'],\n",
    "                                                            'params': None})\n",
    "      loss = loss_fn(gradnet_output,gt['func']).mean()\n",
    "\n",
    "      optimizer.zero_grad()\n",
    "      loss.backward()\n",
    "\n",
    "      optimizer.step()\n",
    "    \n",
    "  if not e % print_loss_every:\n",
    "      print(f\"{e}/{epochs}: loss={loss}\")"
   ]
  },
  {
   "cell_type": "code",
   "execution_count": 42,
   "metadata": {
    "colab": {
     "base_uri": "https://localhost:8080/",
     "height": 282
    },
    "id": "9MCwLg1oZ3o2",
    "outputId": "f57076a2-6b3b-40d3-b9ea-9f13b7cccb9b"
   },
   "outputs": [
    {
     "data": {
      "text/plain": [
       "<matplotlib.legend.Legend at 0x7fc271ee6690>"
      ]
     },
     "execution_count": 42,
     "metadata": {
      "tags": []
     },
     "output_type": "execute_result"
    },
    {
     "data": {
      "image/png": "[encoded data removed]",
      "text/plain": [
       "<Figure size 432x288 with 1 Axes>"
      ]
     },
     "metadata": {
      "needs_background": "light",
      "tags": []
     },
     "output_type": "display_data"
    }
   ],
   "source": [
    "x_coords = torch.linspace(-1,1,100)[:,None].cuda()\n",
    "grad_vals = func_to_fit(x_coords).cpu()\n",
    "fitted_grad_vals = gradnet_session.compute_graph_fast2({'x_coords': x_coords,\n",
    "                                                       'params': None}).cpu()\n",
    "integral_vals = integralnet_session.compute_graph_fast2({'x_coords': x_coords,\n",
    "                                                        'params': None}).cpu()\n",
    "\n",
    "x_coords = x_coords.cpu()\n",
    "plt.plot(x_coords,grad_vals,'-k', label='Function to integrate')\n",
    "plt.plot(x_coords,fitted_grad_vals.detach(),'.r', label='Grad network')\n",
    "plt.plot(x_coords,integral_vals.detach(),'-b', label='Integral network')\n",
    "plt.legend(bbox_to_anchor=(1.05, 1.0), loc='upper left')\n"
   ]
  }
 ],
 "metadata": {
  "accelerator": "GPU",
  "colab": {
   "collapsed_sections": [
    "gCSbelzxRej2",
    "Y4fpzrWxRluK",
    "-ounsyPROmJe"
   ],
   "name": "autoint_example.ipynb",
   "provenance": [],
   "toc_visible": true
  },
  "kernelspec": {
   "display_name": "Python 3 (ipykernel)",
   "language": "python",
   "name": "python3"
  },
  "language_info": {
   "codemirror_mode": {
    "name": "ipython",
    "version": 3
   },
   "file_extension": ".py",
   "mimetype": "text/x-python",
   "name": "python",
   "nbconvert_exporter": "python",
   "pygments_lexer": "ipython3",
   "version": "3.9.12"
  }
 },
 "nbformat": 4,
 "nbformat_minor": 1
}
