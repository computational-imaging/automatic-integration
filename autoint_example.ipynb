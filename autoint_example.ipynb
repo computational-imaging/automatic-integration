{
 "cells": [
  {
   "cell_type": "markdown",
   "metadata": {
    "id": "p8LcUlwJKFIG"
   },
   "source": [
    "# AutoInt example"
   ]
  },
  {
   "cell_type": "markdown",
   "metadata": {
    "id": "xvxmqpliPY94"
   },
   "source": [
    "## Imports"
   ]
  },
  {
   "cell_type": "markdown",
   "metadata": {
    "id": "gCSbelzxRej2"
   },
   "source": [
    "### A bunch of third-party libraries"
   ]
  },
  {
   "cell_type": "code",
   "execution_count": 1,
   "metadata": {
    "colab": {
     "base_uri": "https://localhost:8080/"
    },
    "executionInfo": {
     "elapsed": 9517,
     "status": "ok",
     "timestamp": 1616795595788,
     "user": {
      "displayName": "David Brian Lindell",
      "photoUrl": "",
      "userId": "13754723922161875200"
     },
     "user_tz": 420
    },
    "id": "Uf4JlP-7OLrQ",
    "outputId": "7f219a01-b734-427b-c4d3-4c27f9af4d4e"
   },
   "outputs": [
    {
     "name": "stdout",
     "output_type": "stream",
     "text": [
      "Requirement already satisfied: torch in /usr/local/lib/python3.7/dist-packages (1.5.1)\n",
      "Requirement already satisfied: numpy in /usr/local/lib/python3.7/dist-packages (from torch) (1.19.5)\n",
      "Requirement already satisfied: future in /usr/local/lib/python3.7/dist-packages (from torch) (0.16.0)\n",
      "Requirement already satisfied: torchmeta==1.4.6 in /usr/local/lib/python3.7/dist-packages (1.4.6)\n",
      "Requirement already satisfied: torch<1.6.0,>=1.4.0 in /usr/local/lib/python3.7/dist-packages (from torchmeta==1.4.6) (1.5.1)\n",
      "Requirement already satisfied: Pillow>=7.0.0 in /usr/local/lib/python3.7/dist-packages (from torchmeta==1.4.6) (7.0.0)\n",
      "Requirement already satisfied: tqdm>=4.0.0 in /usr/local/lib/python3.7/dist-packages (from torchmeta==1.4.6) (4.41.1)\n",
      "Requirement already satisfied: h5py in /usr/local/lib/python3.7/dist-packages (from torchmeta==1.4.6) (2.10.0)\n",
      "Requirement already satisfied: torchvision<0.7.0,>=0.5.0 in /usr/local/lib/python3.7/dist-packages (from torchmeta==1.4.6) (0.6.1)\n",
      "Requirement already satisfied: requests in /usr/local/lib/python3.7/dist-packages (from torchmeta==1.4.6) (2.23.0)\n",
      "Requirement already satisfied: numpy>=1.14.0 in /usr/local/lib/python3.7/dist-packages (from torchmeta==1.4.6) (1.19.5)\n",
      "Requirement already satisfied: ordered-set in /usr/local/lib/python3.7/dist-packages (from torchmeta==1.4.6) (4.0.2)\n",
      "Requirement already satisfied: future in /usr/local/lib/python3.7/dist-packages (from torch<1.6.0,>=1.4.0->torchmeta==1.4.6) (0.16.0)\n",
      "Requirement already satisfied: six in /usr/local/lib/python3.7/dist-packages (from h5py->torchmeta==1.4.6) (1.15.0)\n",
      "Requirement already satisfied: idna<3,>=2.5 in /usr/local/lib/python3.7/dist-packages (from requests->torchmeta==1.4.6) (2.10)\n",
      "Requirement already satisfied: certifi>=2017.4.17 in /usr/local/lib/python3.7/dist-packages (from requests->torchmeta==1.4.6) (2020.12.5)\n",
      "Requirement already satisfied: chardet<4,>=3.0.2 in /usr/local/lib/python3.7/dist-packages (from requests->torchmeta==1.4.6) (3.0.4)\n",
      "Requirement already satisfied: urllib3!=1.25.0,!=1.25.1,<1.26,>=1.21.1 in /usr/local/lib/python3.7/dist-packages (from requests->torchmeta==1.4.6) (1.24.3)\n",
      "Requirement already satisfied: colour in /usr/local/lib/python3.7/dist-packages (0.1.5)\n"
     ]
    }
   ],
   "source": [
    "!pip install torch\n",
    "import torch\n",
    "import matplotlib.pyplot as plt\n",
    "import numpy as np\n",
    "!pip install torchmeta==1.4.6\n",
    "!pip install colour\n",
    "\n",
    "from torchmeta.modules import MetaModule\n",
    "from functools import partial\n",
    "from torch.utils.data import DataLoader"
   ]
  },
  {
   "cell_type": "markdown",
   "metadata": {
    "id": "Y4fpzrWxRluK"
   },
   "source": [
    "### Our libraries"
   ]
  },
  {
   "cell_type": "code",
   "execution_count": 17,
   "metadata": {
    "colab": {
     "base_uri": "https://localhost:8080/"
    },
    "executionInfo": {
     "elapsed": 1771,
     "status": "ok",
     "timestamp": 1616796929920,
     "user": {
      "displayName": "David Brian Lindell",
      "photoUrl": "",
      "userId": "13754723922161875200"
     },
     "user_tz": 420
    },
    "id": "BIM2d2vuRpUH",
    "outputId": "b2034161-e794-4d2d-a3db-d22f36108dff"
   },
   "outputs": [
    {
     "name": "stdout",
     "output_type": "stream",
     "text": [
      "Mounted at /content/gdrive/\n"
     ]
    }
   ],
   "source": [
    "from google.colab import drive\n",
    "drive.mount('/content/gdrive/', force_remount=True)\n",
    "import sys\n",
    "import os\n",
    "sys.path.append(os.path.abspath('/content/gdrive/My Drive/'))\n",
    "\n",
    "\n",
    "from autoint_python.session import Session\n",
    "import autoint_python.autograd_modules as autoint"
   ]
  },
  {
   "cell_type": "markdown",
   "metadata": {
    "id": "tNHuGxpdOYeh"
   },
   "source": [
    "## A class to create coordinates from a 1D function we wish to fit"
   ]
  },
  {
   "cell_type": "code",
   "execution_count": 18,
   "metadata": {
    "executionInfo": {
     "elapsed": 275,
     "status": "ok",
     "timestamp": 1616797003471,
     "user": {
      "displayName": "David Brian Lindell",
      "photoUrl": "",
      "userId": "13754723922161875200"
     },
     "user_tz": 420
    },
    "id": "n_9nVygnKENw"
   },
   "outputs": [],
   "source": [
    "class Implicit1DWrapper(torch.utils.data.Dataset):\n",
    "    def __init__(self, range, fn, grad_fn=None, integral_fn=None, sampling_density=100,\n",
    "                 train_every=10):\n",
    "\n",
    "        avg = (range[0] + range[1]) / 2\n",
    "\n",
    "        coords = self.get_samples(range, sampling_density)\n",
    "        self.fn_vals = fn(coords)\n",
    "        self.train_idx = torch.arange(0, coords.shape[0], train_every).float()\n",
    "\n",
    "        #coords = (coords - avg) / (range[1] - avg)\n",
    "        self.grid = coords\n",
    "        self.grid.requires_grad_(True)\n",
    "        #self.val_grid = val_coords\n",
    "\n",
    "        if grad_fn is None:\n",
    "            grid_gt_with_grad = coords\n",
    "            grid_gt_with_grad.requires_grad_(True)\n",
    "            fn_vals_with_grad = fn((grid_gt_with_grad * (range[1] - avg)) + avg)\n",
    "            gt_gradient = torch.autograd.grad(fn_vals_with_grad, [grid_gt_with_grad],\n",
    "                                              grad_outputs=torch.ones_like(grid_gt_with_grad), create_graph=True,\n",
    "                                              retain_graph=True)[0]\n",
    "            try:\n",
    "                gt_hessian = torch.autograd.grad(gt_gradient, [grid_gt_with_grad],\n",
    "                                                 grad_outputs=torch.ones_like(gt_gradient), retain_graph=True)[0]\n",
    "            except Exception as e:\n",
    "                gt_hessian = torch.zeros_like(gt_gradient)\n",
    "\n",
    "        else:\n",
    "            gt_gradient = grad_fn(coords) \n",
    "            gt_hessian = torch.zeros_like(gt_gradient)\n",
    "\n",
    "        self.integral_fn = integral_fn\n",
    "        if integral_fn:\n",
    "            self.integral_vals = integral_fn(coords)\n",
    "\n",
    "        self.gt_gradient = gt_gradient.detach()\n",
    "        self.gt_hessian = gt_hessian.detach()\n",
    "\n",
    "    def get_samples(self, range, sampling_density):\n",
    "        num = int(range[1] - range[0])*sampling_density\n",
    "        avg = (range[0] + range[1]) / 2\n",
    "        coords = np.linspace(start=range[0], stop=range[1], num=num)\n",
    "        coords.astype(np.float32)\n",
    "        coords = torch.Tensor(coords).view(-1, 1)\n",
    "        return coords\n",
    "\n",
    "    def get_num_samples(self):\n",
    "        return self.grid.shape[0]\n",
    "\n",
    "    def __len__(self):\n",
    "        return 1\n",
    "\n",
    "    def __getitem__(self, idx):\n",
    "        if self.integral_fn is not None:\n",
    "            return {'coords':self.grid}, {'integral_func': self.integral_vals, 'func':self.fn_vals,\n",
    "                    'gradients':self.gt_gradient, 'val_func': self.val_fn_vals,\n",
    "                    'val_coords': self.val_grid, 'hessian':self.gt_hessian}\n",
    "        else:\n",
    "            return {'idx': self.train_idx, 'coords':self.grid}, \\\n",
    "                   {'func': self.fn_vals, 'gradients':self.gt_gradient,\n",
    "                    'coords': self.grid}"
   ]
  },
  {
   "cell_type": "markdown",
   "metadata": {
    "id": "-ounsyPROmJe"
   },
   "source": [
    "## Different 1D functions we want to integrate"
   ]
  },
  {
   "cell_type": "code",
   "execution_count": 19,
   "metadata": {
    "executionInfo": {
     "elapsed": 445,
     "status": "ok",
     "timestamp": 1616797007392,
     "user": {
      "displayName": "David Brian Lindell",
      "photoUrl": "",
      "userId": "13754723922161875200"
     },
     "user_tz": 420
    },
    "id": "w8oKENjbOpbG"
   },
   "outputs": [],
   "source": [
    "def cos_fn(coords):\n",
    "  return torch.cos(10*coords)\n",
    "\n",
    "def polynomial_fn(coords):\n",
    "    return .1*coords**5 - .2*coords**4 + .2*coords**3 - .4*coords**2 + .1*coords\n",
    "\n",
    "def sinc_fn(coords):\n",
    "    coords[coords == 0] += 1\n",
    "    return torch.div(torch.sin(20*coords), 20*coords)\n",
    "\n",
    "def linear_fn(coords):\n",
    "    return 1.0 * coords\n",
    "\n",
    "def xcosx_fn(coords):\n",
    "    return coords * torch.cos(coords)\n",
    "\n",
    "def integral_xcosx_fn(coords):\n",
    "    return coords*torch.sin(coords) + torch.cos(coords)"
   ]
  },
  {
   "cell_type": "markdown",
   "metadata": {
    "id": "ir7qkzUwPhPS"
   },
   "source": []
  },
  {
   "cell_type": "markdown",
   "metadata": {
    "id": "2OSv8uMMPuy2"
   },
   "source": [
    "## Setting up the integral network & the grad network"
   ]
  },
  {
   "cell_type": "markdown",
   "metadata": {
    "id": "jVnl-6pQZv3S"
   },
   "source": [
    "We define an integral network using the AutoInt API. Here the integral network is a MLP with sine non-linearities: a SIREN."
   ]
  },
  {
   "cell_type": "code",
   "execution_count": 20,
   "metadata": {
    "executionInfo": {
     "elapsed": 283,
     "status": "ok",
     "timestamp": 1616797012877,
     "user": {
      "displayName": "David Brian Lindell",
      "photoUrl": "",
      "userId": "13754723922161875200"
     },
     "user_tz": 420
    },
    "id": "R1eePTXXXoJo"
   },
   "outputs": [],
   "source": [
    "class SIREN(MetaModule):\n",
    "    def __init__(self, session):\n",
    "        super().__init__()\n",
    "\n",
    "        self.net = [] \n",
    "        self.input = autoint.Input(torch.Tensor(1, 1), id='x_coords')\n",
    "        #self.constant = autoint.Constant(torch.Tensor(1, 1), id='y_coords')\n",
    "\n",
    "        self.net.append(autoint.Linear(1, 128))\n",
    "        self.net.append(autoint.Sine())\n",
    "        self.net.append(autoint.Linear(128, 128))\n",
    "        self.net.append(autoint.Sine())\n",
    "        self.net.append(autoint.Linear(128, 128))\n",
    "        self.net.append(autoint.Sine())\n",
    "        self.net.append(autoint.Linear(128, 128))\n",
    "        self.net.append(autoint.Sine())\n",
    "        self.net.append(autoint.Linear(128, 1))\n",
    "\n",
    "        self.net = torch.nn.Sequential(*self.net)\n",
    "        self.session = session\n",
    "\n",
    "    def input_init(self, input_tensor, m):\n",
    "        with torch.no_grad():\n",
    "            if isinstance(m, autoint.Input):\n",
    "                m.set_value(input_tensor, grad=True)\n",
    "\n",
    "    def constant_init(self, input_tensor, m):\n",
    "        with torch.no_grad():\n",
    "            if isinstance(m, autoint.Constant):\n",
    "                m.set_value(input_tensor, grad=False)\n",
    "    \n",
    "    def forward(self, x):\n",
    "        with torch.no_grad():\n",
    "            input_init_func = partial(self.input_init, x[:, 0, None])\n",
    "            #constant_init_func = partial(self.constant_init, x[:, 1, None])\n",
    "            self.input.apply(input_init_func)\n",
    "            #self.constant.apply(constant_init_func)\n",
    "\n",
    "        input_ctx = autoint.Value(x, self.session)\n",
    "\n",
    "        out1 = self.input(input_ctx)\n",
    "        #out2 = self.constant(input_ctx)\n",
    "\n",
    "        #out = autoint.Concatenate()(out1, out2)\n",
    "        return self.net(out1)#, self.input.input"
   ]
  },
  {
   "cell_type": "markdown",
   "metadata": {
    "id": "60jqgxBHZ65I"
   },
   "source": [
    "In AutoInt, a session will handle the derivation of the integral network into the grad network for you. It takes care of the reassembly of the weights too."
   ]
  },
  {
   "cell_type": "code",
   "execution_count": 21,
   "metadata": {
    "colab": {
     "base_uri": "https://localhost:8080/"
    },
    "executionInfo": {
     "elapsed": 278,
     "status": "ok",
     "timestamp": 1616797015207,
     "user": {
      "displayName": "David Brian Lindell",
      "photoUrl": "",
      "userId": "13754723922161875200"
     },
     "user_tz": 420
    },
    "id": "_oo7dJHLP4ks",
    "outputId": "4040ff96-e3e0-417c-855e-a2d9511accf4"
   },
   "outputs": [
    {
     "name": "stdout",
     "output_type": "stream",
     "text": [
      "Creating session: 8788107720729\n"
     ]
    }
   ],
   "source": [
    "integralnet_session = Session()"
   ]
  },
  {
   "cell_type": "markdown",
   "metadata": {
    "id": "8U_zJVLxaIQH"
   },
   "source": [
    "We instantiate the integral net we defined earlier. The session can be thought as representing the integral network."
   ]
  },
  {
   "cell_type": "code",
   "execution_count": 22,
   "metadata": {
    "executionInfo": {
     "elapsed": 264,
     "status": "ok",
     "timestamp": 1616797017291,
     "user": {
      "displayName": "David Brian Lindell",
      "photoUrl": "",
      "userId": "13754723922161875200"
     },
     "user_tz": 420
    },
    "id": "YVtqZ3D7Yp1s"
   },
   "outputs": [],
   "source": [
    "net = SIREN(integralnet_session)"
   ]
  },
  {
   "cell_type": "markdown",
   "metadata": {
    "id": "RpImr_0IdUeY"
   },
   "source": [
    "We can evaluate the SIREN we instantiated using the forward function as we would do for any Pytorch module."
   ]
  },
  {
   "cell_type": "code",
   "execution_count": 23,
   "metadata": {
    "colab": {
     "base_uri": "https://localhost:8080/"
    },
    "executionInfo": {
     "elapsed": 286,
     "status": "ok",
     "timestamp": 1616797019014,
     "user": {
      "displayName": "David Brian Lindell",
      "photoUrl": "",
      "userId": "13754723922161875200"
     },
     "user_tz": 420
    },
    "id": "4cmwf3bEdbMk",
    "outputId": "55cddb54-0434-44e6-c713-22b0debf452e"
   },
   "outputs": [
    {
     "name": "stdout",
     "output_type": "stream",
     "text": [
      "result of forward SIREN evaluation=tensor([[0.0115]], grad_fn=<AddBackward0>)\n"
     ]
    }
   ],
   "source": [
    "x = torch.ones(1, 1) # defines a dummy input\n",
    "y = torch.ones(1, 1)\n",
    "x.requires_grad_(True)\n",
    "\n",
    "session_input = {'x_coords': x,\n",
    "                 #'y_coords': y,\n",
    "                 'params': None}\n",
    "\n",
    "y = net(x)\n",
    "\n",
    "forward_siren_evaluation = y.data\n",
    "print(f\"result of forward SIREN evaluation={forward_siren_evaluation}\")"
   ]
  },
  {
   "cell_type": "markdown",
   "metadata": {
    "id": "tSdpdZQHbjsF"
   },
   "source": [
    "Evaluating the session also yields the output of the network. We must evaluate the session at least once (as done above) to initialize the session properly and get the backward session"
   ]
  },
  {
   "cell_type": "code",
   "execution_count": 24,
   "metadata": {
    "colab": {
     "base_uri": "https://localhost:8080/"
    },
    "executionInfo": {
     "elapsed": 278,
     "status": "ok",
     "timestamp": 1616797022720,
     "user": {
      "displayName": "David Brian Lindell",
      "photoUrl": "",
      "userId": "13754723922161875200"
     },
     "user_tz": 420
    },
    "id": "FQZVe8RjcOcU",
    "outputId": "b2f4a820-838f-4945-bcd6-dcb3c1192ace"
   },
   "outputs": [
    {
     "name": "stdout",
     "output_type": "stream",
     "text": [
      "result of forward session evaluation=tensor([[0.0115]], grad_fn=<AddBackward0>)\n"
     ]
    }
   ],
   "source": [
    "integralnet_session_evaluation = integralnet_session(session_input)\n",
    "print(f\"result of forward session evaluation={integralnet_session_evaluation}\")"
   ]
  },
  {
   "cell_type": "markdown",
   "metadata": {
    "id": "_g4JShidOkS4"
   },
   "source": [
    "We can check the two evaluations (the evaluation of the integral network via forward and of the session representing the integral network) are the same"
   ]
  },
  {
   "cell_type": "code",
   "execution_count": 25,
   "metadata": {
    "colab": {
     "base_uri": "https://localhost:8080/"
    },
    "executionInfo": {
     "elapsed": 278,
     "status": "ok",
     "timestamp": 1616797024176,
     "user": {
      "displayName": "David Brian Lindell",
      "photoUrl": "",
      "userId": "13754723922161875200"
     },
     "user_tz": 420
    },
    "id": "VSrBokZqOnQW",
    "outputId": "bbb4887c-7541-47df-ebbb-3b16b56294ca"
   },
   "outputs": [
    {
     "name": "stdout",
     "output_type": "stream",
     "text": [
      "Error between session and network evaluation=0.0\n"
     ]
    }
   ],
   "source": [
    "error_fn = torch.nn.MSELoss()\n",
    "print(f\"Error between session and network evaluation={error_fn(forward_siren_evaluation.squeeze(), \\\n",
    "                                                               integralnet_session_evaluation.squeeze())}\")"
   ]
  },
  {
   "cell_type": "markdown",
   "metadata": {
    "id": "y0LdCq_Aakt6"
   },
   "source": [
    "Calling the function get_backward_graph() on the session instantiates another session that represents the grad network. **(this can only be done if the network has been run once!)**\n",
    "\n"
   ]
  },
  {
   "cell_type": "code",
   "execution_count": 26,
   "metadata": {
    "colab": {
     "base_uri": "https://localhost:8080/"
    },
    "executionInfo": {
     "elapsed": 280,
     "status": "ok",
     "timestamp": 1616797026278,
     "user": {
      "displayName": "David Brian Lindell",
      "photoUrl": "",
      "userId": "13754723922161875200"
     },
     "user_tz": 420
    },
    "id": "3fdpGxcrZr0D",
    "outputId": "a3abbdb5-7252-4f29-fb88-be9f27cc32f0"
   },
   "outputs": [
    {
     "name": "stdout",
     "output_type": "stream",
     "text": [
      "Creating session: 8788107720849\n"
     ]
    }
   ],
   "source": [
    "gradnet_session = integralnet_session.get_backward_graph()"
   ]
  },
  {
   "cell_type": "markdown",
   "metadata": {
    "id": "WgubofKAbHBF"
   },
   "source": [
    "We can visualize the integral network we created (by visualizing its associated session)"
   ]
  },
  {
   "cell_type": "code",
   "execution_count": 27,
   "metadata": {
    "colab": {
     "base_uri": "https://localhost:8080/",
     "height": 264
    },
    "executionInfo": {
     "elapsed": 1229,
     "status": "ok",
     "timestamp": 1616797029023,
     "user": {
      "displayName": "David Brian Lindell",
      "photoUrl": "",
      "userId": "13754723922161875200"
     },
     "user_tz": 420
    },
    "id": "yFXCebRMbJri",
    "outputId": "258992ce-36e6-4515-cd88-f850e20deca4"
   },
   "outputs": [
    {
     "data": {
      "image/png": "[encoded data removed]",
      "text/plain": [
       "<Figure size 432x288 with 1 Axes>"
      ]
     },
     "metadata": {
      "tags": []
     },
     "output_type": "display_data"
    }
   ],
   "source": [
    "integralnet_session.draw()"
   ]
  },
  {
   "cell_type": "markdown",
   "metadata": {
    "id": "UxbO65_XfHmV"
   },
   "source": [
    "We can also visualize the grad network (contained in the back session):"
   ]
  },
  {
   "cell_type": "code",
   "execution_count": 28,
   "metadata": {
    "colab": {
     "base_uri": "https://localhost:8080/",
     "height": 264
    },
    "executionInfo": {
     "elapsed": 1699,
     "status": "ok",
     "timestamp": 1616797032517,
     "user": {
      "displayName": "David Brian Lindell",
      "photoUrl": "",
      "userId": "13754723922161875200"
     },
     "user_tz": 420
    },
    "id": "CkEn1gIzfGXU",
    "outputId": "0764a6f2-2f1c-4f5e-b251-0d69f5cc763f"
   },
   "outputs": [
    {
     "data": {
      "image/png": "[encoded data removed]",
      "text/plain": [
       "<Figure size 432x288 with 1 Axes>"
      ]
     },
     "metadata": {
      "tags": []
     },
     "output_type": "display_data"
    }
   ],
   "source": [
    "gradnet_session.draw()"
   ]
  },
  {
   "cell_type": "markdown",
   "metadata": {
    "id": "4SU-FDmrQ0Zf"
   },
   "source": [
    "## Fitting the grad network"
   ]
  },
  {
   "cell_type": "markdown",
   "metadata": {
    "id": "SIgUh0NGe0YP"
   },
   "source": [
    "We choose the function we want to calculate the integral using AutoInt."
   ]
  },
  {
   "cell_type": "code",
   "execution_count": 29,
   "metadata": {
    "executionInfo": {
     "elapsed": 260,
     "status": "ok",
     "timestamp": 1616797033986,
     "user": {
      "displayName": "David Brian Lindell",
      "photoUrl": "",
      "userId": "13754723922161875200"
     },
     "user_tz": 420
    },
    "id": "iOYLeR2FRnjP"
   },
   "outputs": [],
   "source": [
    "func_to_fit = cos_fn"
   ]
  },
  {
   "cell_type": "markdown",
   "metadata": {
    "id": "yQC6pm8Te5LP"
   },
   "source": [
    "We create the dataloader that will create the pairs of datapoints of the form (input coordinate, output of the function to integrate) for us."
   ]
  },
  {
   "cell_type": "code",
   "execution_count": 30,
   "metadata": {
    "executionInfo": {
     "elapsed": 443,
     "status": "ok",
     "timestamp": 1616797035448,
     "user": {
      "displayName": "David Brian Lindell",
      "photoUrl": "",
      "userId": "13754723922161875200"
     },
     "user_tz": 420
    },
    "id": "grw61O08ezX4"
   },
   "outputs": [],
   "source": [
    "dataset = Implicit1DWrapper([-1,1], fn=func_to_fit, \\\n",
    "                            sampling_density=1000, train_every=1)\n",
    "dataloader = DataLoader(dataset,shuffle=True, batch_size=1, \\\n",
    "                        pin_memory=True, num_workers=0)"
   ]
  },
  {
   "cell_type": "markdown",
   "metadata": {
    "id": "cWE59YMnfC2e"
   },
   "source": [
    "A minimal example of a training loop to fit the function:"
   ]
  },
  {
   "cell_type": "code",
   "execution_count": 31,
   "metadata": {
    "colab": {
     "base_uri": "https://localhost:8080/"
    },
    "executionInfo": {
     "elapsed": 28635,
     "status": "ok",
     "timestamp": 1616797065693,
     "user": {
      "displayName": "David Brian Lindell",
      "photoUrl": "",
      "userId": "13754723922161875200"
     },
     "user_tz": 420
    },
    "id": "OEEfB9NRQ7xF",
    "outputId": "735162d5-5e4c-4cdd-9d67-95de4ba7edaa"
   },
   "outputs": [
    {
     "name": "stdout",
     "output_type": "stream",
     "text": [
      "0/500: loss=0.5234070420265198\n",
      "50/500: loss=0.00019768220954574645\n",
      "100/500: loss=6.490908162959386e-06\n",
      "150/500: loss=2.939979367511114e-06\n",
      "200/500: loss=2.0951658825651975e-06\n",
      "250/500: loss=1.609625087439781e-06\n",
      "300/500: loss=1.304736088059144e-06\n",
      "350/500: loss=0.00010830091196112335\n",
      "400/500: loss=1.6591210396654787e-06\n",
      "450/500: loss=1.107814227907511e-06\n"
     ]
    }
   ],
   "source": [
    "epochs = 500\n",
    "\n",
    "loss_fn = torch.nn.MSELoss()\n",
    "optimizer = torch.optim.Adam(lr=5e-5, params=net.parameters(),amsgrad=True)\n",
    "\n",
    "print_loss_every = 50\n",
    "\n",
    "for e in range(epochs):\n",
    "  for step, (input, gt) in enumerate(dataloader):\n",
    "      gradnet_output = gradnet_session.compute_graph_fast({'x_coords': input['coords'],\n",
    "                                                           'params': None})\n",
    "      loss = loss_fn(gradnet_output,gt['func']).mean()\n",
    "\n",
    "      optimizer.zero_grad()\n",
    "      loss.backward()\n",
    "\n",
    "      optimizer.step()\n",
    "    \n",
    "  if not e % print_loss_every:\n",
    "      print(f\"{e}/{epochs}: loss={loss}\")"
   ]
  },
  {
   "cell_type": "code",
   "execution_count": 32,
   "metadata": {
    "colab": {
     "base_uri": "https://localhost:8080/",
     "height": 299
    },
    "executionInfo": {
     "elapsed": 648,
     "status": "ok",
     "timestamp": 1616797068888,
     "user": {
      "displayName": "David Brian Lindell",
      "photoUrl": "",
      "userId": "13754723922161875200"
     },
     "user_tz": 420
    },
    "id": "9MCwLg1oZ3o2",
    "outputId": "9addfb54-6816-4a4b-f8b0-8a744475e897"
   },
   "outputs": [
    {
     "data": {
      "text/plain": [
       "Text(0.5, 1.0, 'Blue=The function to integrate, Cyan=Its fit, Red=Its integral')"
      ]
     },
     "execution_count": 32,
     "metadata": {
      "tags": []
     },
     "output_type": "execute_result"
    },
    {
     "data": {
      "image/png": "[encoded data removed]",
      "text/plain": [
       "<Figure size 432x288 with 1 Axes>"
      ]
     },
     "metadata": {
      "needs_background": "light",
      "tags": []
     },
     "output_type": "display_data"
    }
   ],
   "source": [
    "x_coords = torch.linspace(-1,1,100)[:,None]\n",
    "grad_vals = func_to_fit(x_coords)\n",
    "fitted_grad_vals = gradnet_session.compute_graph_fast({'x_coords': x_coords,\n",
    "                                                       'params': None})\n",
    "integral_vals = integralnet_session.compute_graph_fast({'x_coords': x_coords,\n",
    "                                                        'params': None})\n",
    "\n",
    "plt.plot(x_coords,grad_vals,'-b')\n",
    "plt.plot(x_coords,fitted_grad_vals.detach(),'-c')\n",
    "plt.plot(x_coords,integral_vals.detach(),'-r')\n",
    "plt.title(\"Blue=The function to integrate, Cyan=Its fit, Red=Its integral\")\n"
   ]
  }
 ],
 "metadata": {
  "colab": {
   "collapsed_sections": [
    "gCSbelzxRej2",
    "Y4fpzrWxRluK",
    "-ounsyPROmJe"
   ],
   "name": "autoint_example.ipynb",
   "provenance": [],
   "toc_visible": true
  },
  "kernelspec": {
   "display_name": "Python 3",
   "language": "python",
   "name": "python3"
  },
  "language_info": {
   "codemirror_mode": {
    "name": "ipython",
    "version": 3
   },
   "file_extension": ".py",
   "mimetype": "text/x-python",
   "name": "python",
   "nbconvert_exporter": "python",
   "pygments_lexer": "ipython3",
   "version": "3.8.8"
  }
 },
 "nbformat": 4,
 "nbformat_minor": 1
}
